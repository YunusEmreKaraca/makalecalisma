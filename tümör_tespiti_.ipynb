{
  "cells": [
    {
      "cell_type": "markdown",
      "metadata": {
        "id": "LscrnN6w6Q75"
      },
      "source": [
        "gerekli kütüphaneler"
      ]
    },
    {
      "cell_type": "code",
      "execution_count": 1,
      "metadata": {
        "id": "bhhUopwy6Q7-"
      },
      "outputs": [],
      "source": [
        "import tensorflow as tf\n",
        "from keras.preprocessing.image import ImageDataGenerator"
      ]
    },
    {
      "cell_type": "code",
      "source": [
        "from google.colab import drive\n",
        "drive.mount('/content/drive')"
      ],
      "metadata": {
        "colab": {
          "base_uri": "https://localhost:8080/"
        },
        "id": "kCJn36W461Ex",
        "outputId": "70a97862-3b6f-4788-cb36-cc87c106b2ed"
      },
      "execution_count": 2,
      "outputs": [
        {
          "output_type": "stream",
          "name": "stdout",
          "text": [
            "Drive already mounted at /content/drive; to attempt to forcibly remount, call drive.mount(\"/content/drive\", force_remount=True).\n"
          ]
        }
      ]
    },
    {
      "cell_type": "markdown",
      "metadata": {
        "id": "qGjZqTXG6Q8B"
      },
      "source": [
        "Veri Ön İşleme"
      ]
    },
    {
      "cell_type": "markdown",
      "metadata": {
        "id": "zghWZv0L6Q8C"
      },
      "source": [
        "Eğitim setinin ön işlemesi"
      ]
    },
    {
      "cell_type": "code",
      "execution_count": 3,
      "metadata": {
        "id": "W-AGUghN6Q8C",
        "outputId": "7d859b2e-6831-497f-8c0e-49d32255c899",
        "colab": {
          "base_uri": "https://localhost:8080/"
        }
      },
      "outputs": [
        {
          "output_type": "stream",
          "name": "stdout",
          "text": [
            "Found 877 images belonging to 2 classes.\n"
          ]
        }
      ],
      "source": [
        "train_datagen = ImageDataGenerator(rescale=1./255,shear_range=0.2,zoom_range=0.2,horizontal_flip= True)\n",
        "training_set = train_datagen.flow_from_directory('/content/drive/MyDrive/ACCa_merve/TRAIN2',target_size=(64,64),batch_size=10,class_mode='binary')\n",
        "# Veri büyütmenin gerçekleştirilmesi,\n",
        "# Değişkenler\n",
        "# - target_size = modele beslenecek görüntünün boyutunu ayarladık\n",
        "# - batch_size = Parti boyutu, ağ üzerinden yayılacak numune sayısını tanımlar.\n",
        "# - class_mode = ikili veya kategorik"
      ]
    },
    {
      "cell_type": "markdown",
      "metadata": {
        "id": "1FYk6nN96Q8D"
      },
      "source": [
        "Test setinin ön işlenmesi"
      ]
    },
    {
      "cell_type": "code",
      "execution_count": 4,
      "metadata": {
        "id": "Yy-dUr0k6Q8E",
        "outputId": "f612be31-e4e5-4139-c680-966be497157d",
        "colab": {
          "base_uri": "https://localhost:8080/"
        }
      },
      "outputs": [
        {
          "output_type": "stream",
          "name": "stdout",
          "text": [
            "Found 424 images belonging to 2 classes.\n"
          ]
        }
      ],
      "source": [
        "test_datagen = ImageDataGenerator(rescale=1./255)\n",
        "test_set = test_datagen.flow_from_directory('/content/drive/MyDrive/ACCa_merve/TEST2',target_size=(64,64),batch_size=10,class_mode='binary')"
      ]
    },
    {
      "cell_type": "markdown",
      "metadata": {
        "id": "NufNRsr16Q8F"
      },
      "source": [
        "\n",
        "CNN'i Başlatma"
      ]
    },
    {
      "cell_type": "code",
      "execution_count": 5,
      "metadata": {
        "id": "5A2johHr6Q8F"
      },
      "outputs": [],
      "source": [
        "cnn = tf.keras.models.Sequential()"
      ]
    },
    {
      "cell_type": "markdown",
      "metadata": {
        "id": "cmdcR13D6Q8G"
      },
      "source": [
        "Step 1 - Convolution"
      ]
    },
    {
      "cell_type": "code",
      "execution_count": 6,
      "metadata": {
        "id": "p0wnbuSZ6Q8G"
      },
      "outputs": [],
      "source": [
        "cnn.add(tf.keras.layers.Conv2D(filters=32, kernel_size=3, activation='relu', input_shape=[64, 64, 3]))\n",
        "# filtre = özellik dedektörleri\n",
        "# kernel_size = özellik algılayıcının boyutu (3X3)\n",
        "# input_shape = 2: piksel boyutu , [64,64]: görüntünün boyutu."
      ]
    },
    {
      "cell_type": "markdown",
      "metadata": {
        "id": "ZEww-PGK6Q8H"
      },
      "source": [
        "Step 2 - Pooling"
      ]
    },
    {
      "cell_type": "code",
      "execution_count": 7,
      "metadata": {
        "id": "QnpnAq2U6Q8H"
      },
      "outputs": [],
      "source": [
        "cnn.add(tf.keras.layers.MaxPool2D(pool_size=2, strides=2))\n",
        "# pool_size = havuz çerçevesinin boyutu\n",
        "# adım = piksel, havuz çerçevesini sağa kaydırır"
      ]
    },
    {
      "cell_type": "markdown",
      "metadata": {
        "id": "kixXVGmh6Q8I"
      },
      "source": [
        "Adding a second convolutional layer"
      ]
    },
    {
      "cell_type": "code",
      "execution_count": 8,
      "metadata": {
        "id": "HXUzZWT46Q8I"
      },
      "outputs": [],
      "source": [
        "cnn.add(tf.keras.layers.Conv2D(filters=32, kernel_size=3, activation='relu'))\n",
        "cnn.add(tf.keras.layers.MaxPool2D(pool_size=2, strides=2))\n"
      ]
    },
    {
      "cell_type": "markdown",
      "metadata": {
        "id": "ALPWQPdp6Q8J"
      },
      "source": [
        "Step 3 - Flattening"
      ]
    },
    {
      "cell_type": "code",
      "execution_count": 9,
      "metadata": {
        "id": "sTWgBhIK6Q8J"
      },
      "outputs": [],
      "source": [
        "cnn.add(tf.keras.layers.Flatten())"
      ]
    },
    {
      "cell_type": "markdown",
      "metadata": {
        "id": "f-3Yx58O6Q8J"
      },
      "source": [
        "Step 4 - Full Connection"
      ]
    },
    {
      "cell_type": "code",
      "execution_count": 10,
      "metadata": {
        "id": "Tkg5qp2b6Q8K"
      },
      "outputs": [],
      "source": [
        "cnn.add(tf.keras.layers.Dense(units=128, activation='relu'))\n",
        "# birim = gizli nöronlar"
      ]
    },
    {
      "cell_type": "markdown",
      "metadata": {
        "id": "sVBPO1Ds6Q8L"
      },
      "source": [
        "Step 5 - Output Layer"
      ]
    },
    {
      "cell_type": "code",
      "execution_count": 11,
      "metadata": {
        "id": "ncylVCp-6Q8M"
      },
      "outputs": [],
      "source": [
        "cnn.add(tf.keras.layers.Dense(units=1, activation='sigmoid'))"
      ]
    },
    {
      "cell_type": "markdown",
      "metadata": {
        "id": "Zs1iOHSo6Q8N"
      },
      "source": [
        "Part 3 - Training the CNN"
      ]
    },
    {
      "cell_type": "markdown",
      "metadata": {
        "id": "WcEh_ALR6Q8N"
      },
      "source": [
        "Compiling the CNN"
      ]
    },
    {
      "cell_type": "code",
      "execution_count": 12,
      "metadata": {
        "id": "0LEjSpe16Q8N"
      },
      "outputs": [],
      "source": [
        "cnn.compile(optimizer = 'adam', loss = 'binary_crossentropy', metrics = ['accuracy'])\n",
        "# optimizer = gradyan inişi, mini toplu gradyan inişi veya stokastik gradyan inişi. adam = stokastik GD\n",
        "# loss = hatayı hesaplama tekniği\n",
        "# metrik = Bir metrik, modelinizin performansını değerlendirmek için kullanılan bir işlevdir"
      ]
    },
    {
      "cell_type": "code",
      "source": [
        "cnn.summary()"
      ],
      "metadata": {
        "colab": {
          "base_uri": "https://localhost:8080/"
        },
        "id": "m7e3gfdcAUqk",
        "outputId": "b8818b82-cf8c-4bc7-cce2-a1bea41bc90c"
      },
      "execution_count": 13,
      "outputs": [
        {
          "output_type": "stream",
          "name": "stdout",
          "text": [
            "Model: \"sequential\"\n",
            "_________________________________________________________________\n",
            " Layer (type)                Output Shape              Param #   \n",
            "=================================================================\n",
            " conv2d (Conv2D)             (None, 62, 62, 32)        896       \n",
            "                                                                 \n",
            " max_pooling2d (MaxPooling2D  (None, 31, 31, 32)       0         \n",
            " )                                                               \n",
            "                                                                 \n",
            " conv2d_1 (Conv2D)           (None, 29, 29, 32)        9248      \n",
            "                                                                 \n",
            " max_pooling2d_1 (MaxPooling  (None, 14, 14, 32)       0         \n",
            " 2D)                                                             \n",
            "                                                                 \n",
            " flatten (Flatten)           (None, 6272)              0         \n",
            "                                                                 \n",
            " dense (Dense)               (None, 128)               802944    \n",
            "                                                                 \n",
            " dense_1 (Dense)             (None, 1)                 129       \n",
            "                                                                 \n",
            "=================================================================\n",
            "Total params: 813,217\n",
            "Trainable params: 813,217\n",
            "Non-trainable params: 0\n",
            "_________________________________________________________________\n"
          ]
        }
      ]
    },
    {
      "cell_type": "markdown",
      "metadata": {
        "id": "fq3Zyq6R6Q8O"
      },
      "source": [
        "cnn ile eğitim"
      ]
    },
    {
      "cell_type": "code",
      "execution_count": 14,
      "metadata": {
        "id": "N6dvbi-x6Q8O",
        "outputId": "e65156ef-c1e5-4ea2-873c-3541a23f8f70",
        "colab": {
          "base_uri": "https://localhost:8080/"
        }
      },
      "outputs": [
        {
          "output_type": "stream",
          "name": "stdout",
          "text": [
            "Epoch 1/18\n",
            "88/88 [==============================] - 18s 177ms/step - loss: 0.3863 - accuracy: 0.8255 - val_loss: 0.1886 - val_accuracy: 0.9552\n",
            "Epoch 2/18\n",
            "88/88 [==============================] - 15s 167ms/step - loss: 0.1786 - accuracy: 0.9361 - val_loss: 0.1506 - val_accuracy: 0.9670\n",
            "Epoch 3/18\n",
            "88/88 [==============================] - 15s 165ms/step - loss: 0.1275 - accuracy: 0.9510 - val_loss: 0.3398 - val_accuracy: 0.8467\n",
            "Epoch 4/18\n",
            "88/88 [==============================] - 16s 181ms/step - loss: 0.0915 - accuracy: 0.9715 - val_loss: 0.1444 - val_accuracy: 0.9528\n",
            "Epoch 5/18\n",
            "88/88 [==============================] - 14s 163ms/step - loss: 0.0932 - accuracy: 0.9726 - val_loss: 0.1555 - val_accuracy: 0.9552\n",
            "Epoch 6/18\n",
            "88/88 [==============================] - 15s 174ms/step - loss: 0.0816 - accuracy: 0.9715 - val_loss: 0.6165 - val_accuracy: 0.7382\n",
            "Epoch 7/18\n",
            "88/88 [==============================] - 15s 168ms/step - loss: 0.0817 - accuracy: 0.9715 - val_loss: 0.3213 - val_accuracy: 0.8632\n",
            "Epoch 8/18\n",
            "88/88 [==============================] - 15s 169ms/step - loss: 0.0586 - accuracy: 0.9783 - val_loss: 0.1508 - val_accuracy: 0.9387\n",
            "Epoch 9/18\n",
            "88/88 [==============================] - 15s 172ms/step - loss: 0.0649 - accuracy: 0.9715 - val_loss: 0.2851 - val_accuracy: 0.9104\n",
            "Epoch 10/18\n",
            "88/88 [==============================] - 15s 171ms/step - loss: 0.0635 - accuracy: 0.9795 - val_loss: 0.3887 - val_accuracy: 0.8491\n",
            "Epoch 11/18\n",
            "88/88 [==============================] - 15s 174ms/step - loss: 0.0527 - accuracy: 0.9840 - val_loss: 0.2580 - val_accuracy: 0.9198\n",
            "Epoch 12/18\n",
            "88/88 [==============================] - 16s 181ms/step - loss: 0.0367 - accuracy: 0.9920 - val_loss: 0.3035 - val_accuracy: 0.8538\n",
            "Epoch 13/18\n",
            "88/88 [==============================] - 15s 171ms/step - loss: 0.0306 - accuracy: 0.9863 - val_loss: 0.1657 - val_accuracy: 0.9198\n",
            "Epoch 14/18\n",
            "88/88 [==============================] - 15s 170ms/step - loss: 0.0455 - accuracy: 0.9863 - val_loss: 0.3102 - val_accuracy: 0.8986\n",
            "Epoch 15/18\n",
            "88/88 [==============================] - 15s 166ms/step - loss: 0.0354 - accuracy: 0.9875 - val_loss: 0.2873 - val_accuracy: 0.9080\n",
            "Epoch 16/18\n",
            "88/88 [==============================] - 15s 167ms/step - loss: 0.0254 - accuracy: 0.9897 - val_loss: 0.6070 - val_accuracy: 0.8042\n",
            "Epoch 17/18\n",
            "88/88 [==============================] - 15s 165ms/step - loss: 0.0291 - accuracy: 0.9886 - val_loss: 0.2748 - val_accuracy: 0.8962\n",
            "Epoch 18/18\n",
            "88/88 [==============================] - 14s 163ms/step - loss: 0.0188 - accuracy: 0.9932 - val_loss: 0.3481 - val_accuracy: 0.8797\n"
          ]
        },
        {
          "output_type": "execute_result",
          "data": {
            "text/plain": [
              "<keras.callbacks.History at 0x7f68e4e24910>"
            ]
          },
          "metadata": {},
          "execution_count": 14
        }
      ],
      "source": [
        "cnn.fit(x = training_set, validation_data = test_set, epochs = 18)\n"
      ]
    }
  ],
  "metadata": {
    "interpreter": {
      "hash": "ce214becca8225ca0caca848c3d2de934d9dffe4f8a6a87e1f234a01c583b38b"
    },
    "kernelspec": {
      "display_name": "Python 3",
      "language": "python",
      "name": "python3"
    },
    "language_info": {
      "codemirror_mode": {
        "name": "ipython",
        "version": 3
      },
      "file_extension": ".py",
      "mimetype": "text/x-python",
      "name": "python",
      "nbconvert_exporter": "python",
      "pygments_lexer": "ipython3",
      "version": "3.7.6"
    },
    "colab": {
      "name": "tümör tespiti .ipynb",
      "provenance": [],
      "collapsed_sections": []
    }
  },
  "nbformat": 4,
  "nbformat_minor": 0
}