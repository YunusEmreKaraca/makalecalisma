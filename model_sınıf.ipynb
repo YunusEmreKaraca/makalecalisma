{
  "nbformat": 4,
  "nbformat_minor": 0,
  "metadata": {
    "kernelspec": {
      "display_name": "Python 3",
      "language": "python",
      "name": "python3"
    },
    "language_info": {
      "codemirror_mode": {
        "name": "ipython",
        "version": 3
      },
      "file_extension": ".py",
      "mimetype": "text/x-python",
      "name": "python",
      "nbconvert_exporter": "python",
      "pygments_lexer": "ipython3",
      "version": "3.7.7"
    },
    "colab": {
      "name": "model_sınıf",
      "provenance": [],
      "collapsed_sections": []
    },
    "accelerator": "GPU"
  },
  "cells": [
    {
      "cell_type": "code",
      "metadata": {
        "id": "VwmvMyOf4L-t"
      },
      "source": [
        "from google.colab import drive\n",
        "drive.mount('/content/drive')"
      ],
      "execution_count": null,
      "outputs": []
    },
    {
      "cell_type": "code",
      "metadata": {
        "id": "MUgv-6avKu4Y"
      },
      "source": [
        "# gerekli kütüphaneler eklenir\n",
        "\n",
        "from tensorflow.keras import Model, Input , Sequential\n",
        "from tensorflow.keras.layers import   Conv2D, MaxPool2D, Concatenate,  Flatten, Dense, Dropout\n",
        "from tensorflow.keras.utils import to_categorical, plot_model\n",
        "from tensorflow.keras.optimizers import Adam\n",
        "from tensorflow.keras.layers import GRU\n",
        "\n",
        "import numpy as np\n",
        "from glob import glob\n"
      ],
      "execution_count": 4,
      "outputs": []
    },
    {
      "cell_type": "code",
      "metadata": {
        "id": "Td0JNOnCKu4Y"
      },
      "source": [
        "# resimleri yeniden boyutlandırıyoruz\n",
        "IMAGE_SIZE = [224, 224]\n",
        "\n",
        "train_path = '/content/drive/MyDrive/ACCa_merve/TRAIN2'\n",
        "valid_path = '/content/drive/MyDrive/ACCa_merve/TEST2'\n"
      ],
      "execution_count": 2,
      "outputs": []
    },
    {
      "cell_type": "code",
      "source": [
        "input = Input(shape =input_shape)\n",
        "\n",
        "b1= Conv2D(32,kernel_size=(4,4), activation='relu')(input)\n",
        "b1= MaxPool2D(pool_size=(2,2))(b1)\n",
        "b2= Conv2D(32,kernel_size=(3,3), activation='relu')(input)\n",
        "b2= MaxPool2D(pool_size=(2,2))(b2)\n",
        "out= Concatenate()([b2,b1])\n"
      ],
      "metadata": {
        "id": "K2BUvK1jOA_b"
      },
      "execution_count": null,
      "outputs": []
    },
    {
      "cell_type": "code",
      "metadata": {
        "id": "aLIFoWHeKu4a"
      },
      "source": [
        "out = Flatten() ()"
      ],
      "execution_count": 6,
      "outputs": []
    },
    {
      "cell_type": "code",
      "source": [
        "out = Dense(len(folders), activation='softmax')( "
      ],
      "metadata": {
        "id": "M_9SBdVhwk3N"
      },
      "execution_count": null,
      "outputs": []
    },
    {
      "cell_type": "code",
      "source": [
        "out= Dropout( )( )"
      ],
      "metadata": {
        "id": "B-8JThFIvUc8"
      },
      "execution_count": null,
      "outputs": []
    },
    {
      "cell_type": "code",
      "metadata": {
        "id": "ZcOW8gArKu4b"
      },
      "source": [
        "out = Dense(len(folders), activation='softmax')( )\n",
        "\n",
        "#model nesnesi oluşturduğumuzda\n",
        "model = Model(inputs=input, outputs=out)"
      ],
      "execution_count": null,
      "outputs": []
    },
    {
      "cell_type": "code",
      "source": [
        "Model.summary()"
      ],
      "metadata": {
        "id": "GjfOYplSt0BV"
      },
      "execution_count": null,
      "outputs": []
    }
  ]
}