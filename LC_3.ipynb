{
  "nbformat": 4,
  "nbformat_minor": 0,
  "metadata": {
    "colab": {
      "name": "LC_3.ipynb",
      "provenance": [],
      "collapsed_sections": []
    },
    "kernelspec": {
      "name": "python3",
      "display_name": "Python 3"
    },
    "language_info": {
      "name": "python"
    },
    "accelerator": "GPU"
  },
  "cells": [
    {
      "cell_type": "code",
      "metadata": {
        "colab": {
          "base_uri": "https://localhost:8080/"
        },
        "id": "gTe4N1g3Ut4Q",
        "outputId": "38c18488-3e05-4dcf-a6e6-29b07d9941ac"
      },
      "source": [
        "from numpy import load\n",
        "print(\"loading data\")\n",
        "data = load(\"/content/drive/My Drive/yunusEmre/ACCa_LUNA/data_4.npy\")\n",
        "print(\"loading labels\")\n",
        "labels = load(\"/content/drive/My Drive/yunusEmre/ACCa_LUNA/labels_4.npy\")"
      ],
      "execution_count": 3,
      "outputs": [
        {
          "output_type": "stream",
          "name": "stdout",
          "text": [
            "loading data\n",
            "loading labels\n"
          ]
        }
      ]
    },
    {
      "cell_type": "code",
      "metadata": {
        "colab": {
          "base_uri": "https://localhost:8080/"
        },
        "id": "PDBYxsFOU8x7",
        "outputId": "1cb9649a-2319-4c39-a485-b7b0716eaf38"
      },
      "source": [
        "from google.colab import drive\n",
        "drive.mount('/content/drive')"
      ],
      "execution_count": 1,
      "outputs": [
        {
          "output_type": "stream",
          "name": "stdout",
          "text": [
            "Mounted at /content/drive\n"
          ]
        }
      ]
    },
    {
      "cell_type": "code",
      "metadata": {
        "id": "yJdeP1eXVY3s"
      },
      "source": [
        "from sklearn.model_selection import train_test_split\n",
        "(trainX, testX, trainY, testY) = train_test_split(data, labels,\n",
        "                                                  test_size=0.1, stratify=labels, random_state=42,shuffle = True)"
      ],
      "execution_count": 4,
      "outputs": []
    },
    {
      "cell_type": "code",
      "metadata": {
        "colab": {
          "base_uri": "https://localhost:8080/"
        },
        "id": "yrj56JlZVa5y",
        "outputId": "a5a3c6b7-fd35-4224-90e5-989834c85926"
      },
      "source": [
        "trainX.shape"
      ],
      "execution_count": 5,
      "outputs": [
        {
          "output_type": "execute_result",
          "data": {
            "text/plain": [
              "(1231, 512, 512, 1)"
            ]
          },
          "metadata": {},
          "execution_count": 5
        }
      ]
    },
    {
      "cell_type": "code",
      "metadata": {
        "colab": {
          "base_uri": "https://localhost:8080/"
        },
        "id": "-WYW9fEpVhXH",
        "outputId": "69bfade2-4a02-4cf4-cc1c-ced43ff44c82"
      },
      "source": [
        "trainY.shape"
      ],
      "execution_count": 6,
      "outputs": [
        {
          "output_type": "execute_result",
          "data": {
            "text/plain": [
              "(1231,)"
            ]
          },
          "metadata": {},
          "execution_count": 6
        }
      ]
    },
    {
      "cell_type": "code",
      "metadata": {
        "id": "L7SeFqMbVkKB"
      },
      "source": [
        "from keras.preprocessing.image import ImageDataGenerator\n",
        "aug_train = ImageDataGenerator(rescale= 1.0/255.,\n",
        "    rotation_range=20,\n",
        "    zoom_range=0.15,\n",
        "    width_shift_range=0.2,\n",
        "    height_shift_range=0.2,\n",
        "    shear_range=0.15,\n",
        "    horizontal_flip=True,\n",
        "    fill_mode=\"nearest\")\n",
        "\n",
        "aug_test  = ImageDataGenerator(rescale= 1.0/255.)"
      ],
      "execution_count": 7,
      "outputs": []
    },
    {
      "cell_type": "code",
      "metadata": {
        "id": "y3JGV4MuVooj"
      },
      "source": [
        "from keras.models import Sequential\n",
        "from keras.layers import Conv2D\n",
        "from keras.layers import MaxPooling2D\n",
        "from keras.layers import Flatten\n",
        "from keras.layers import Dense\n",
        "from keras.layers import Dropout\n",
        "\n",
        "# Initialising the CNN\n",
        "classifier = Sequential()\n",
        "\n",
        "# Step 1 - Convolution\n",
        "classifier.add(Conv2D(32, (3, 3), input_shape = (512, 512, 1), activation = 'relu'))\n",
        "\n",
        "# Step 2 - Pooling\n",
        "classifier.add(MaxPooling2D(pool_size = (2, 2)))\n",
        "\n",
        "# Adding a second convolutional layer\n",
        "classifier.add(Conv2D(32, (3, 3), activation = 'relu'))\n",
        "classifier.add(MaxPooling2D(pool_size = (2, 2)))\n",
        "\n",
        "# Adding a third convolutional layer\n",
        "classifier.add(Conv2D(32, (3, 3), activation = 'relu'))\n",
        "classifier.add(Dropout(0.5))\n",
        "\n",
        "# Adding Convolution\n",
        "classifier.add(Conv2D(32, (3, 3), activation = 'relu'))\n",
        "\n",
        "# Step 3 - Flattening\n",
        "classifier.add(Flatten())\n",
        "\n",
        "# Step 4 - Full connection\n",
        "classifier.add(Dense(units = 128, activation = 'relu'))\n",
        "classifier.add(Dropout(0.5))\n",
        "classifier.add(Dense(units = 128, activation = 'relu'))\n",
        "classifier.add(Dense(units = 1, activation = 'sigmoid'))"
      ],
      "execution_count": 8,
      "outputs": []
    },
    {
      "cell_type": "code",
      "metadata": {
        "id": "u8t5uH7gVuXO"
      },
      "source": [
        "classifier.compile(optimizer = 'adam', loss = 'binary_crossentropy', metrics = ['accuracy'])"
      ],
      "execution_count": 9,
      "outputs": []
    },
    {
      "cell_type": "code",
      "metadata": {
        "colab": {
          "base_uri": "https://localhost:8080/"
        },
        "id": "HaP83jeQVyti",
        "outputId": "937d264e-8a41-400e-b22f-3b7582d26f2d"
      },
      "source": [
        "classifier.summary()"
      ],
      "execution_count": 10,
      "outputs": [
        {
          "output_type": "stream",
          "name": "stdout",
          "text": [
            "Model: \"sequential\"\n",
            "_________________________________________________________________\n",
            " Layer (type)                Output Shape              Param #   \n",
            "=================================================================\n",
            " conv2d (Conv2D)             (None, 510, 510, 32)      320       \n",
            "                                                                 \n",
            " max_pooling2d (MaxPooling2D  (None, 255, 255, 32)     0         \n",
            " )                                                               \n",
            "                                                                 \n",
            " conv2d_1 (Conv2D)           (None, 253, 253, 32)      9248      \n",
            "                                                                 \n",
            " max_pooling2d_1 (MaxPooling  (None, 126, 126, 32)     0         \n",
            " 2D)                                                             \n",
            "                                                                 \n",
            " conv2d_2 (Conv2D)           (None, 124, 124, 32)      9248      \n",
            "                                                                 \n",
            " dropout (Dropout)           (None, 124, 124, 32)      0         \n",
            "                                                                 \n",
            " conv2d_3 (Conv2D)           (None, 122, 122, 32)      9248      \n",
            "                                                                 \n",
            " flatten (Flatten)           (None, 476288)            0         \n",
            "                                                                 \n",
            " dense (Dense)               (None, 128)               60964992  \n",
            "                                                                 \n",
            " dropout_1 (Dropout)         (None, 128)               0         \n",
            "                                                                 \n",
            " dense_1 (Dense)             (None, 128)               16512     \n",
            "                                                                 \n",
            " dense_2 (Dense)             (None, 1)                 129       \n",
            "                                                                 \n",
            "=================================================================\n",
            "Total params: 61,009,697\n",
            "Trainable params: 61,009,697\n",
            "Non-trainable params: 0\n",
            "_________________________________________________________________\n"
          ]
        }
      ]
    },
    {
      "cell_type": "code",
      "metadata": {
        "id": "5ndyanvWV1uX"
      },
      "source": [
        "import keras as k"
      ],
      "execution_count": 11,
      "outputs": []
    },
    {
      "cell_type": "code",
      "metadata": {
        "id": "b7HchXQuV4so"
      },
      "source": [
        "import time\n",
        "NAME = \"test_1-{}\".format(int(time.time()))"
      ],
      "execution_count": 12,
      "outputs": []
    },
    {
      "cell_type": "code",
      "metadata": {
        "id": "9v0jpDQ8V7d4"
      },
      "source": [
        "callbacks = [\n",
        "#   k.callbacks.EarlyStopping(patience=3, monitor='val_loss'),\n",
        "    k.callbacks.TensorBoard(log_dir='logs\\{}'.format(NAME)),\n",
        "    k.callbacks.ModelCheckpoint('test_model_1.h5', save_best_only=True)]"
      ],
      "execution_count": 13,
      "outputs": []
    },
    {
      "cell_type": "code",
      "metadata": {
        "colab": {
          "base_uri": "https://localhost:8080/"
        },
        "id": "bgUDd-wMXBaG",
        "outputId": "6e9de578-f5a7-4d72-b194-fecc612cbf9e"
      },
      "source": [
        "hist_1 = classifier.fit(aug_train.flow(trainX, trainY, batch_size=32),steps_per_epoch = 29, epochs = 50, verbose = 1,\n",
        "                        validation_data = (testX, testY), callbacks=callbacks)"
      ],
      "execution_count": 14,
      "outputs": [
        {
          "output_type": "stream",
          "name": "stdout",
          "text": [
            "Epoch 1/50\n",
            "29/29 [==============================] - 42s 990ms/step - loss: 3.9419 - accuracy: 0.6323 - val_loss: 14.0730 - val_accuracy: 0.7153\n",
            "Epoch 2/50\n",
            "29/29 [==============================] - 25s 871ms/step - loss: 0.6345 - accuracy: 0.6926 - val_loss: 0.6884 - val_accuracy: 0.7153\n",
            "Epoch 3/50\n",
            "29/29 [==============================] - 22s 756ms/step - loss: 0.6104 - accuracy: 0.7113 - val_loss: 0.9664 - val_accuracy: 0.7153\n",
            "Epoch 4/50\n",
            "29/29 [==============================] - 22s 755ms/step - loss: 0.5985 - accuracy: 0.7201 - val_loss: 10.2645 - val_accuracy: 0.7153\n",
            "Epoch 5/50\n",
            "29/29 [==============================] - 23s 776ms/step - loss: 0.5912 - accuracy: 0.7223 - val_loss: 11.2907 - val_accuracy: 0.7153\n",
            "Epoch 6/50\n",
            "29/29 [==============================] - 23s 795ms/step - loss: 0.6069 - accuracy: 0.7091 - val_loss: 6.9560 - val_accuracy: 0.7153\n",
            "Epoch 7/50\n",
            "29/29 [==============================] - 22s 767ms/step - loss: 0.5847 - accuracy: 0.7295 - val_loss: 18.3662 - val_accuracy: 0.7153\n",
            "Epoch 8/50\n",
            "29/29 [==============================] - 22s 757ms/step - loss: 0.5855 - accuracy: 0.7102 - val_loss: 31.2416 - val_accuracy: 0.7153\n",
            "Epoch 9/50\n",
            "29/29 [==============================] - 22s 742ms/step - loss: 0.5828 - accuracy: 0.7102 - val_loss: 34.0639 - val_accuracy: 0.7153\n",
            "Epoch 10/50\n",
            "29/29 [==============================] - 22s 752ms/step - loss: 0.5714 - accuracy: 0.7146 - val_loss: 20.5987 - val_accuracy: 0.7153\n",
            "Epoch 11/50\n",
            "29/29 [==============================] - 22s 755ms/step - loss: 0.5666 - accuracy: 0.7190 - val_loss: 12.0096 - val_accuracy: 0.7153\n",
            "Epoch 12/50\n",
            "29/29 [==============================] - 23s 776ms/step - loss: 0.5294 - accuracy: 0.7311 - val_loss: 40.0476 - val_accuracy: 0.7080\n",
            "Epoch 13/50\n",
            "29/29 [==============================] - 23s 791ms/step - loss: 0.5604 - accuracy: 0.7209 - val_loss: 52.0216 - val_accuracy: 0.7080\n",
            "Epoch 14/50\n",
            "29/29 [==============================] - 23s 777ms/step - loss: 0.5343 - accuracy: 0.7274 - val_loss: 31.0098 - val_accuracy: 0.7080\n",
            "Epoch 15/50\n",
            "29/29 [==============================] - 22s 766ms/step - loss: 0.5248 - accuracy: 0.7179 - val_loss: 46.8377 - val_accuracy: 0.7153\n",
            "Epoch 16/50\n",
            "29/29 [==============================] - 23s 800ms/step - loss: 0.5286 - accuracy: 0.7201 - val_loss: 27.1587 - val_accuracy: 0.7153\n",
            "Epoch 17/50\n",
            "29/29 [==============================] - 22s 751ms/step - loss: 0.5595 - accuracy: 0.7014 - val_loss: 29.9965 - val_accuracy: 0.7153\n",
            "Epoch 18/50\n",
            "29/29 [==============================] - 23s 786ms/step - loss: 0.5103 - accuracy: 0.7278 - val_loss: 69.3007 - val_accuracy: 0.7153\n",
            "Epoch 19/50\n",
            "29/29 [==============================] - 22s 752ms/step - loss: 0.5066 - accuracy: 0.7179 - val_loss: 80.7338 - val_accuracy: 0.7080\n",
            "Epoch 20/50\n",
            "29/29 [==============================] - 22s 756ms/step - loss: 0.5190 - accuracy: 0.7179 - val_loss: 47.7687 - val_accuracy: 0.7153\n",
            "Epoch 21/50\n",
            "29/29 [==============================] - 22s 759ms/step - loss: 0.5072 - accuracy: 0.7146 - val_loss: 63.7709 - val_accuracy: 0.7153\n",
            "Epoch 22/50\n",
            "29/29 [==============================] - 23s 778ms/step - loss: 0.5247 - accuracy: 0.7047 - val_loss: 88.1363 - val_accuracy: 0.7153\n",
            "Epoch 23/50\n",
            "29/29 [==============================] - 23s 782ms/step - loss: 0.5146 - accuracy: 0.7223 - val_loss: 64.9834 - val_accuracy: 0.7153\n",
            "Epoch 24/50\n",
            "29/29 [==============================] - 22s 754ms/step - loss: 0.5048 - accuracy: 0.7179 - val_loss: 43.6102 - val_accuracy: 0.7153\n",
            "Epoch 25/50\n",
            "29/29 [==============================] - 22s 762ms/step - loss: 0.5253 - accuracy: 0.7177 - val_loss: 11.8730 - val_accuracy: 0.7153\n",
            "Epoch 26/50\n",
            "29/29 [==============================] - 22s 756ms/step - loss: 0.5100 - accuracy: 0.7295 - val_loss: 54.3142 - val_accuracy: 0.7153\n",
            "Epoch 27/50\n",
            "29/29 [==============================] - 23s 774ms/step - loss: 0.5039 - accuracy: 0.7135 - val_loss: 82.6239 - val_accuracy: 0.7153\n",
            "Epoch 28/50\n",
            "29/29 [==============================] - 23s 776ms/step - loss: 0.4830 - accuracy: 0.7256 - val_loss: 108.6959 - val_accuracy: 0.7153\n",
            "Epoch 29/50\n",
            "29/29 [==============================] - 22s 753ms/step - loss: 0.5056 - accuracy: 0.7201 - val_loss: 47.3232 - val_accuracy: 0.7153\n",
            "Epoch 30/50\n",
            "29/29 [==============================] - 22s 754ms/step - loss: 0.4853 - accuracy: 0.7328 - val_loss: 35.9019 - val_accuracy: 0.7153\n",
            "Epoch 31/50\n",
            "29/29 [==============================] - 23s 780ms/step - loss: 0.4908 - accuracy: 0.7338 - val_loss: 70.0032 - val_accuracy: 0.7153\n",
            "Epoch 32/50\n",
            "29/29 [==============================] - 23s 787ms/step - loss: 0.4900 - accuracy: 0.7231 - val_loss: 70.8741 - val_accuracy: 0.7153\n",
            "Epoch 33/50\n",
            "29/29 [==============================] - 22s 750ms/step - loss: 0.4855 - accuracy: 0.7179 - val_loss: 135.6297 - val_accuracy: 0.7153\n",
            "Epoch 34/50\n",
            "29/29 [==============================] - 23s 795ms/step - loss: 0.4771 - accuracy: 0.7252 - val_loss: 105.7328 - val_accuracy: 0.7153\n",
            "Epoch 35/50\n",
            "29/29 [==============================] - 23s 777ms/step - loss: 0.4780 - accuracy: 0.7201 - val_loss: 137.4350 - val_accuracy: 0.7153\n",
            "Epoch 36/50\n",
            "29/29 [==============================] - 22s 755ms/step - loss: 0.4949 - accuracy: 0.7047 - val_loss: 102.6563 - val_accuracy: 0.7153\n",
            "Epoch 37/50\n",
            "29/29 [==============================] - 23s 776ms/step - loss: 0.4739 - accuracy: 0.7212 - val_loss: 133.5228 - val_accuracy: 0.7153\n",
            "Epoch 38/50\n",
            "29/29 [==============================] - 22s 753ms/step - loss: 0.4848 - accuracy: 0.7069 - val_loss: 161.0926 - val_accuracy: 0.7153\n",
            "Epoch 39/50\n",
            "29/29 [==============================] - 23s 768ms/step - loss: 0.4807 - accuracy: 0.7157 - val_loss: 97.5741 - val_accuracy: 0.7153\n",
            "Epoch 40/50\n",
            "29/29 [==============================] - 23s 768ms/step - loss: 0.4599 - accuracy: 0.7209 - val_loss: 70.9104 - val_accuracy: 0.7153\n",
            "Epoch 41/50\n",
            "29/29 [==============================] - 22s 753ms/step - loss: 0.4619 - accuracy: 0.7289 - val_loss: 129.9667 - val_accuracy: 0.7153\n",
            "Epoch 42/50\n",
            "29/29 [==============================] - 23s 780ms/step - loss: 0.4425 - accuracy: 0.7377 - val_loss: 106.3025 - val_accuracy: 0.7153\n",
            "Epoch 43/50\n",
            "29/29 [==============================] - 23s 776ms/step - loss: 0.4960 - accuracy: 0.7091 - val_loss: 33.9565 - val_accuracy: 0.7153\n",
            "Epoch 44/50\n",
            "29/29 [==============================] - 23s 789ms/step - loss: 0.4748 - accuracy: 0.7274 - val_loss: 134.2092 - val_accuracy: 0.7153\n",
            "Epoch 45/50\n",
            "29/29 [==============================] - 22s 765ms/step - loss: 0.4747 - accuracy: 0.7212 - val_loss: 65.8472 - val_accuracy: 0.7153\n",
            "Epoch 46/50\n",
            "29/29 [==============================] - 23s 786ms/step - loss: 0.4626 - accuracy: 0.7220 - val_loss: 85.1839 - val_accuracy: 0.7226\n",
            "Epoch 47/50\n",
            "29/29 [==============================] - 23s 779ms/step - loss: 0.4868 - accuracy: 0.7091 - val_loss: 124.1397 - val_accuracy: 0.7299\n",
            "Epoch 48/50\n",
            "29/29 [==============================] - 22s 749ms/step - loss: 0.4556 - accuracy: 0.7223 - val_loss: 87.2829 - val_accuracy: 0.7591\n",
            "Epoch 49/50\n",
            "29/29 [==============================] - 22s 746ms/step - loss: 0.4644 - accuracy: 0.7157 - val_loss: 81.1491 - val_accuracy: 0.7299\n",
            "Epoch 50/50\n",
            "29/29 [==============================] - 23s 789ms/step - loss: 0.4698 - accuracy: 0.7442 - val_loss: 194.8647 - val_accuracy: 0.7007\n"
          ]
        }
      ]
    },
    {
      "cell_type": "code",
      "metadata": {
        "id": "0OmODURLXDFO"
      },
      "source": [
        "aug_train.fit(trainX)"
      ],
      "execution_count": 15,
      "outputs": []
    },
    {
      "cell_type": "code",
      "metadata": {
        "colab": {
          "base_uri": "https://localhost:8080/",
          "height": 312
        },
        "id": "c3agAWEjlYCj",
        "outputId": "3b66856a-949b-44ef-bd4b-554a3bf67f53"
      },
      "source": [
        "import scipy.ndimage\n",
        "import matplotlib.pyplot as plt\n",
        "from skimage import measure, morphology, segmentation\n",
        "from mpl_toolkits.mplot3d.art3d import Poly3DCollection\n",
        "import scipy.ndimage as ndimage\n",
        "\n",
        "# print accuracy graph\n",
        "plt.plot(hist_1.history[\"accuracy\"])\n",
        "plt.plot(hist_1.history['val_accuracy'])\n",
        "plt.title(\"model accuracy\")\n",
        "plt.legend([\"Accuracy\",\"Validation Accuracy\"])\n",
        "plt.ylabel(\"Acuuracy\")\n",
        "plt.xlabel(\"Epoch\")"
      ],
      "execution_count": 16,
      "outputs": [
        {
          "output_type": "execute_result",
          "data": {
            "text/plain": [
              "Text(0.5, 0, 'Epoch')"
            ]
          },
          "metadata": {},
          "execution_count": 16
        },
        {
          "output_type": "display_data",
          "data": {
            "text/plain": [
              "<Figure size 432x288 with 1 Axes>"
            ],
            "image/png": "[encoded data removed]"
          },
          "metadata": {
            "needs_background": "light"
          }
        }
      ]
    },
    {
      "cell_type": "code",
      "metadata": {
        "colab": {
          "base_uri": "https://localhost:8080/",
          "height": 312
        },
        "id": "qLTyOqLTlkVc",
        "outputId": "e1b2213b-a139-4855-e6d5-3435d7c4a60a"
      },
      "source": [
        "# print loss graph\n",
        "import matplotlib.pyplot as plt\n",
        "plt.plot(hist_1.history['loss'])\n",
        "plt.plot(hist_1.history['val_loss'])\n",
        "plt.title(\"model loss\")\n",
        "plt.ylabel(\"Loss\")\n",
        "plt.xlabel(\"Epoch\")\n",
        "plt.legend([\"loss\",\"Validation Loss\"])"
      ],
      "execution_count": 17,
      "outputs": [
        {
          "output_type": "execute_result",
          "data": {
            "text/plain": [
              "<matplotlib.legend.Legend at 0x7f4b58045110>"
            ]
          },
          "metadata": {},
          "execution_count": 17
        },
        {
          "output_type": "display_data",
          "data": {
            "text/plain": [
              "<Figure size 432x288 with 1 Axes>"
            ],
            "image/png": "[encoded data removed]"
          },
          "metadata": {
            "needs_background": "light"
          }
        }
      ]
    },
    {
      "cell_type": "code",
      "metadata": {
        "id": "OOkdxx7MXJnI"
      },
      "source": [
        "from keras.models import Sequential\n",
        "from keras.layers import Conv2D\n",
        "from keras.layers import MaxPooling2D\n",
        "from keras.layers import Flatten\n",
        "from keras.layers import Dense\n",
        "from keras.layers import Dropout\n",
        "\n",
        "classifier_2 = Sequential()\n",
        "\n",
        "# Step 1 - Convolution\n",
        "classifier_2.add(Conv2D(32, (3, 3), input_shape = (512, 512, 1), activation = 'relu'))\n",
        "\n",
        "# Step 2 - Pooling\n",
        "classifier_2.add(MaxPooling2D(pool_size = (2, 2)))\n",
        "\n",
        "# Adding a second convolutional layer\n",
        "classifier_2.add(Conv2D(32, (3, 3), activation = 'relu'))\n",
        "classifier_2.add(MaxPooling2D(pool_size = (2, 2)))\n",
        "# Adding a third convolutional layer\n",
        "classifier_2.add(Conv2D(32, (3, 3), activation = 'relu'))\n",
        "classifier_2.add(MaxPooling2D(pool_size = (2, 2)))\n",
        "# Adding a forth convolutional layer\n",
        "classifier_2.add(Conv2D(64, (3, 3), activation = 'relu'))\n",
        "classifier_2.add(MaxPooling2D(pool_size = (2, 2)))\n",
        "# Adding a forth convolutional layer\n",
        "classifier_2.add(Conv2D(64, (3, 3), activation = 'relu'))\n",
        "classifier_2.add(MaxPooling2D(pool_size = (2, 2)))\n",
        "# Adding a forth convolutional layer\n",
        "classifier_2.add(Conv2D(64, (3, 3), activation = 'relu'))\n",
        "classifier_2.add(MaxPooling2D(pool_size = (2, 2)))\n",
        "\n",
        "# Step 3 - Flattening\n",
        "classifier_2.add(Flatten())\n",
        "\n",
        "# Step 4 - Full connection\n",
        "classifier_2.add(Dense(units = 128, activation = 'relu'))\n",
        "classifier_2.add(Dense(units = 128, activation = 'relu'))\n",
        "classifier_2.add(Dense(units = 128, activation = 'relu'))\n",
        "classifier_2.add(Dense(units = 1, activation = 'sigmoid'))"
      ],
      "execution_count": 18,
      "outputs": []
    },
    {
      "cell_type": "code",
      "metadata": {
        "id": "AmuBUNjoXNiV"
      },
      "source": [
        "classifier_2.compile(optimizer = 'adam', loss = 'binary_crossentropy', metrics = ['accuracy'])"
      ],
      "execution_count": null,
      "outputs": []
    },
    {
      "cell_type": "code",
      "metadata": {
        "colab": {
          "base_uri": "https://localhost:8080/"
        },
        "id": "LQO34iAnXRIY",
        "outputId": "deeece27-b95e-474f-e3b9-c91cfb641ac7"
      },
      "source": [
        "classifier_2.summary()"
      ],
      "execution_count": null,
      "outputs": [
        {
          "output_type": "stream",
          "text": [
            "Model: \"sequential\"\n",
            "_________________________________________________________________\n",
            "Layer (type)                 Output Shape              Param #   \n",
            "=================================================================\n",
            "conv2d (Conv2D)              (None, 510, 510, 32)      320       \n",
            "_________________________________________________________________\n",
            "max_pooling2d (MaxPooling2D) (None, 255, 255, 32)      0         \n",
            "_________________________________________________________________\n",
            "conv2d_1 (Conv2D)            (None, 253, 253, 32)      9248      \n",
            "_________________________________________________________________\n",
            "max_pooling2d_1 (MaxPooling2 (None, 126, 126, 32)      0         \n",
            "_________________________________________________________________\n",
            "conv2d_2 (Conv2D)            (None, 124, 124, 32)      9248      \n",
            "_________________________________________________________________\n",
            "max_pooling2d_2 (MaxPooling2 (None, 62, 62, 32)        0         \n",
            "_________________________________________________________________\n",
            "conv2d_3 (Conv2D)            (None, 60, 60, 64)        18496     \n",
            "_________________________________________________________________\n",
            "max_pooling2d_3 (MaxPooling2 (None, 30, 30, 64)        0         \n",
            "_________________________________________________________________\n",
            "conv2d_4 (Conv2D)            (None, 28, 28, 64)        36928     \n",
            "_________________________________________________________________\n",
            "max_pooling2d_4 (MaxPooling2 (None, 14, 14, 64)        0         \n",
            "_________________________________________________________________\n",
            "conv2d_5 (Conv2D)            (None, 12, 12, 64)        36928     \n",
            "_________________________________________________________________\n",
            "max_pooling2d_5 (MaxPooling2 (None, 6, 6, 64)          0         \n",
            "_________________________________________________________________\n",
            "flatten (Flatten)            (None, 2304)              0         \n",
            "_________________________________________________________________\n",
            "dense (Dense)                (None, 128)               295040    \n",
            "_________________________________________________________________\n",
            "dense_1 (Dense)              (None, 128)               16512     \n",
            "_________________________________________________________________\n",
            "dense_2 (Dense)              (None, 128)               16512     \n",
            "_________________________________________________________________\n",
            "dense_3 (Dense)              (None, 1)                 129       \n",
            "=================================================================\n",
            "Total params: 439,361\n",
            "Trainable params: 439,361\n",
            "Non-trainable params: 0\n",
            "_________________________________________________________________\n"
          ],
          "name": "stdout"
        }
      ]
    },
    {
      "cell_type": "code",
      "metadata": {
        "id": "bSlGS7U2XhdN"
      },
      "source": [
        "import keras as k"
      ],
      "execution_count": null,
      "outputs": []
    },
    {
      "cell_type": "code",
      "metadata": {
        "id": "HVliEA4yXiXk"
      },
      "source": [
        "import time\n",
        "NAME = \"test_2-{}\".format(int(time.time()))"
      ],
      "execution_count": null,
      "outputs": []
    },
    {
      "cell_type": "code",
      "metadata": {
        "id": "rbbk_RU6Xk7u"
      },
      "source": [
        "callbacks_2 = [\n",
        "#    k.callbacks.EarlyStopping(patience=3, monitor='val_loss'),\n",
        "    k.callbacks.TensorBoard(log_dir='logs\\{}'.format(NAME)),\n",
        "    k.callbacks.ModelCheckpoint('test_model_2.h5', save_best_only=True)]"
      ],
      "execution_count": null,
      "outputs": []
    },
    {
      "cell_type": "code",
      "metadata": {
        "colab": {
          "base_uri": "https://localhost:8080/"
        },
        "id": "sC_dCemQXoOc",
        "outputId": "32ccb88b-ce4e-410c-bc0f-e7630af8754e"
      },
      "source": [
        "hist_2 = classifier_2.fit(aug_train.flow(trainX, trainY, batch_size=32), steps_per_epoch=29, epochs = 50, verbose = 1,\n",
        "                        validation_data = (testX, testY), callbacks=callbacks_2)"
      ],
      "execution_count": null,
      "outputs": [
        {
          "output_type": "stream",
          "text": [
            "Epoch 1/50\n",
            "29/29 [==============================] - 291s 10s/step - loss: 0.5667 - accuracy: 0.7144 - val_loss: 34.7380 - val_accuracy: 0.7129\n",
            "Epoch 2/50\n",
            "29/29 [==============================] - 289s 10s/step - loss: 0.5342 - accuracy: 0.7144 - val_loss: 32.0463 - val_accuracy: 0.7129\n",
            "Epoch 3/50\n",
            "29/29 [==============================] - 290s 10s/step - loss: 0.5272 - accuracy: 0.7144 - val_loss: 18.6073 - val_accuracy: 0.7129\n",
            "Epoch 4/50\n",
            "29/29 [==============================] - 290s 10s/step - loss: 0.5060 - accuracy: 0.7156 - val_loss: 57.5021 - val_accuracy: 0.6931\n",
            "Epoch 5/50\n",
            "29/29 [==============================] - 289s 10s/step - loss: 0.5060 - accuracy: 0.7156 - val_loss: 39.5869 - val_accuracy: 0.7129\n",
            "Epoch 6/50\n",
            "29/29 [==============================] - 292s 10s/step - loss: 0.5039 - accuracy: 0.7144 - val_loss: 45.8340 - val_accuracy: 0.7129\n",
            "Epoch 7/50\n",
            "29/29 [==============================] - 291s 10s/step - loss: 0.4762 - accuracy: 0.7167 - val_loss: 45.5392 - val_accuracy: 0.8020\n",
            "Epoch 8/50\n",
            "29/29 [==============================] - 287s 10s/step - loss: 0.4866 - accuracy: 0.7222 - val_loss: 79.6042 - val_accuracy: 0.7624\n",
            "Epoch 9/50\n",
            "29/29 [==============================] - 291s 10s/step - loss: 0.4672 - accuracy: 0.7311 - val_loss: 70.2340 - val_accuracy: 0.7822\n",
            "Epoch 10/50\n",
            "29/29 [==============================] - 290s 10s/step - loss: 0.5033 - accuracy: 0.7167 - val_loss: 45.9602 - val_accuracy: 0.7426\n",
            "Epoch 11/50\n",
            "29/29 [==============================] - 291s 10s/step - loss: 0.4710 - accuracy: 0.7211 - val_loss: 185.2148 - val_accuracy: 0.7129\n",
            "Epoch 12/50\n",
            "29/29 [==============================] - 289s 10s/step - loss: 0.4907 - accuracy: 0.7367 - val_loss: 79.5525 - val_accuracy: 0.7129\n",
            "Epoch 13/50\n",
            "29/29 [==============================] - 288s 10s/step - loss: 0.4478 - accuracy: 0.7678 - val_loss: 51.4263 - val_accuracy: 0.7723\n",
            "Epoch 14/50\n",
            "29/29 [==============================] - 289s 10s/step - loss: 0.4423 - accuracy: 0.7622 - val_loss: 33.5057 - val_accuracy: 0.8317\n",
            "Epoch 15/50\n",
            "29/29 [==============================] - 294s 10s/step - loss: 0.4556 - accuracy: 0.7689 - val_loss: 27.1391 - val_accuracy: 0.7327\n",
            "Epoch 16/50\n",
            "29/29 [==============================] - 291s 10s/step - loss: 0.4298 - accuracy: 0.7767 - val_loss: 95.3372 - val_accuracy: 0.7525\n",
            "Epoch 17/50\n",
            "29/29 [==============================] - 291s 10s/step - loss: 0.4318 - accuracy: 0.7711 - val_loss: 98.2122 - val_accuracy: 0.7030\n",
            "Epoch 18/50\n",
            "29/29 [==============================] - 292s 10s/step - loss: 0.4050 - accuracy: 0.7978 - val_loss: 114.6265 - val_accuracy: 0.6931\n",
            "Epoch 19/50\n",
            "29/29 [==============================] - 296s 10s/step - loss: 0.4201 - accuracy: 0.7733 - val_loss: 242.8866 - val_accuracy: 0.7228\n",
            "Epoch 20/50\n",
            "29/29 [==============================] - 290s 10s/step - loss: 0.4336 - accuracy: 0.7844 - val_loss: 58.0143 - val_accuracy: 0.7525\n",
            "Epoch 21/50\n",
            "29/29 [==============================] - 293s 10s/step - loss: 0.4086 - accuracy: 0.7978 - val_loss: 52.8135 - val_accuracy: 0.8416\n",
            "Epoch 22/50\n",
            "29/29 [==============================] - 291s 10s/step - loss: 0.4031 - accuracy: 0.7844 - val_loss: 36.5538 - val_accuracy: 0.7921\n",
            "Epoch 23/50\n",
            "29/29 [==============================] - 292s 10s/step - loss: 0.4030 - accuracy: 0.7889 - val_loss: 84.0584 - val_accuracy: 0.7525\n",
            "Epoch 24/50\n",
            "29/29 [==============================] - 291s 10s/step - loss: 0.4115 - accuracy: 0.8044 - val_loss: 108.1156 - val_accuracy: 0.7624\n",
            "Epoch 25/50\n",
            "29/29 [==============================] - 290s 10s/step - loss: 0.3926 - accuracy: 0.7967 - val_loss: 247.4671 - val_accuracy: 0.7426\n",
            "Epoch 26/50\n",
            "29/29 [==============================] - 296s 10s/step - loss: 0.4290 - accuracy: 0.7722 - val_loss: 92.9601 - val_accuracy: 0.7822\n",
            "Epoch 27/50\n",
            "29/29 [==============================] - 292s 10s/step - loss: 0.4059 - accuracy: 0.7889 - val_loss: 178.0953 - val_accuracy: 0.7822\n",
            "Epoch 28/50\n",
            "29/29 [==============================] - 292s 10s/step - loss: 0.3999 - accuracy: 0.8022 - val_loss: 217.1842 - val_accuracy: 0.7327\n",
            "Epoch 29/50\n",
            "29/29 [==============================] - 293s 10s/step - loss: 0.3759 - accuracy: 0.8211 - val_loss: 283.8634 - val_accuracy: 0.7228\n",
            "Epoch 30/50\n",
            "29/29 [==============================] - 290s 10s/step - loss: 0.3661 - accuracy: 0.8244 - val_loss: 71.4201 - val_accuracy: 0.8119\n",
            "Epoch 31/50\n",
            "29/29 [==============================] - 294s 10s/step - loss: 0.3822 - accuracy: 0.8067 - val_loss: 61.0795 - val_accuracy: 0.7723\n",
            "Epoch 32/50\n",
            "29/29 [==============================] - 290s 10s/step - loss: 0.3564 - accuracy: 0.8211 - val_loss: 157.9012 - val_accuracy: 0.7822\n",
            "Epoch 33/50\n",
            "29/29 [==============================] - 293s 10s/step - loss: 0.3417 - accuracy: 0.8467 - val_loss: 75.9287 - val_accuracy: 0.7624\n",
            "Epoch 34/50\n",
            "29/29 [==============================] - 289s 10s/step - loss: 0.3367 - accuracy: 0.8456 - val_loss: 221.2047 - val_accuracy: 0.7327\n",
            "Epoch 35/50\n",
            "29/29 [==============================] - 291s 10s/step - loss: 0.2969 - accuracy: 0.8656 - val_loss: 176.6424 - val_accuracy: 0.8119\n",
            "Epoch 36/50\n",
            "29/29 [==============================] - 292s 10s/step - loss: 0.3029 - accuracy: 0.8722 - val_loss: 402.2297 - val_accuracy: 0.7228\n",
            "Epoch 37/50\n",
            "29/29 [==============================] - 294s 10s/step - loss: 0.2862 - accuracy: 0.8744 - val_loss: 263.4366 - val_accuracy: 0.8020\n",
            "Epoch 38/50\n",
            "29/29 [==============================] - 296s 10s/step - loss: 0.2757 - accuracy: 0.8733 - val_loss: 325.5260 - val_accuracy: 0.7426\n",
            "Epoch 39/50\n",
            "29/29 [==============================] - 291s 10s/step - loss: 0.2632 - accuracy: 0.8933 - val_loss: 311.5190 - val_accuracy: 0.7525\n",
            "Epoch 40/50\n",
            "29/29 [==============================] - 292s 10s/step - loss: 0.2429 - accuracy: 0.8867 - val_loss: 451.5925 - val_accuracy: 0.7822\n",
            "Epoch 41/50\n",
            "29/29 [==============================] - 294s 10s/step - loss: 0.2506 - accuracy: 0.9000 - val_loss: 182.0017 - val_accuracy: 0.7822\n",
            "Epoch 42/50\n",
            "29/29 [==============================] - 292s 10s/step - loss: 0.2354 - accuracy: 0.8978 - val_loss: 275.1922 - val_accuracy: 0.7822\n",
            "Epoch 43/50\n",
            "29/29 [==============================] - 293s 10s/step - loss: 0.3323 - accuracy: 0.8556 - val_loss: 144.6466 - val_accuracy: 0.7624\n",
            "Epoch 44/50\n",
            "29/29 [==============================] - 294s 10s/step - loss: 0.2790 - accuracy: 0.8756 - val_loss: 94.8771 - val_accuracy: 0.7921\n",
            "Epoch 45/50\n",
            "29/29 [==============================] - 290s 10s/step - loss: 0.2652 - accuracy: 0.8822 - val_loss: 177.6637 - val_accuracy: 0.7723\n",
            "Epoch 46/50\n",
            "29/29 [==============================] - 293s 10s/step - loss: 0.2602 - accuracy: 0.8844 - val_loss: 252.9237 - val_accuracy: 0.7624\n",
            "Epoch 47/50\n",
            "29/29 [==============================] - 291s 10s/step - loss: 0.2807 - accuracy: 0.8800 - val_loss: 269.2314 - val_accuracy: 0.7327\n",
            "Epoch 48/50\n",
            "29/29 [==============================] - 293s 10s/step - loss: 0.2763 - accuracy: 0.8956 - val_loss: 90.8668 - val_accuracy: 0.8317\n",
            "Epoch 49/50\n",
            "29/29 [==============================] - 292s 10s/step - loss: 0.2692 - accuracy: 0.8900 - val_loss: 233.1033 - val_accuracy: 0.7228\n",
            "Epoch 50/50\n",
            "29/29 [==============================] - 291s 10s/step - loss: 0.2016 - accuracy: 0.9189 - val_loss: 206.3485 - val_accuracy: 0.7921\n"
          ],
          "name": "stdout"
        }
      ]
    },
    {
      "cell_type": "code",
      "metadata": {
        "colab": {
          "base_uri": "https://localhost:8080/",
          "height": 312
        },
        "id": "xEA1GjgUX4fC",
        "outputId": "6983cb84-1a13-449a-e10c-6a343b0af027"
      },
      "source": [
        "import scipy.ndimage\n",
        "import matplotlib.pyplot as plt\n",
        "from skimage import measure, morphology, segmentation\n",
        "from mpl_toolkits.mplot3d.art3d import Poly3DCollection\n",
        "import scipy.ndimage as ndimage\n",
        "\n",
        "# print accuracy graph\n",
        "plt.plot(hist_2.history[\"accuracy\"])\n",
        "plt.plot(hist_2.history['val_accuracy'])\n",
        "plt.title(\"model accuracy\")\n",
        "plt.legend([\"Accuracy\",\"Validation Accuracy\"])\n",
        "plt.ylabel(\"Acuuracy\")\n",
        "plt.xlabel(\"Epoch\")"
      ],
      "execution_count": null,
      "outputs": [
        {
          "output_type": "execute_result",
          "data": {
            "text/plain": [
              "Text(0.5, 0, 'Epoch')"
            ]
          },
          "metadata": {
            "tags": []
          },
          "execution_count": 24
        },
        {
          "output_type": "display_data",
          "data": {
            "image/png": "[encoded data removed]",
            "text/plain": [
              "<Figure size 432x288 with 1 Axes>"
            ]
          },
          "metadata": {
            "tags": [],
            "needs_background": "light"
          }
        }
      ]
    },
    {
      "cell_type": "code",
      "metadata": {
        "colab": {
          "base_uri": "https://localhost:8080/",
          "height": 312
        },
        "id": "zI_FDK34hMPg",
        "outputId": "d2ed3684-32f8-432e-ac4a-ebcad1fb5d89"
      },
      "source": [
        "# print loss graph\n",
        "plt.plot(hist_2.history['loss'])\n",
        "plt.plot(hist_2.history['val_loss'])\n",
        "plt.title(\"model loss\")\n",
        "plt.ylabel(\"Loss\")\n",
        "plt.xlabel(\"Epoch\")\n",
        "plt.legend([\"loss\",\"Validation Loss\"])"
      ],
      "execution_count": null,
      "outputs": [
        {
          "output_type": "execute_result",
          "data": {
            "text/plain": [
              "<matplotlib.legend.Legend at 0x7f8d2e528b50>"
            ]
          },
          "metadata": {
            "tags": []
          },
          "execution_count": 25
        },
        {
          "output_type": "display_data",
          "data": {
            "image/png": "[encoded data removed]",
            "text/plain": [
              "<Figure size 432x288 with 1 Axes>"
            ]
          },
          "metadata": {
            "tags": [],
            "needs_background": "light"
          }
        }
      ]
    }
  ]
}